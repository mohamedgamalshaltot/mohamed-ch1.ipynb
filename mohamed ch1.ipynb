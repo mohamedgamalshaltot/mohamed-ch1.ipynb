{
 "cells": [
  {
   "cell_type": "code",
   "execution_count": 1,
   "id": "0365c901",
   "metadata": {},
   "outputs": [
    {
     "name": "stdout",
     "output_type": "stream",
     "text": [
      "a\n",
      "b\n",
      "c\n",
      "d\n",
      "('a', 'b')\n",
      "('a', 'c')\n",
      "('a', 'd')\n",
      "('b', 'c')\n",
      "('c', 'd')\n"
     ]
    },
    {
     "data": {
      "text/plain": [
       "5"
      ]
     },
     "execution_count": 1,
     "metadata": {},
     "output_type": "execute_result"
    },
    {
     "data": {
      "image/png": "[encoded data removed]",
      "text/plain": [
       "<Figure size 432x288 with 1 Axes>"
      ]
     },
     "metadata": {},
     "output_type": "display_data"
    }
   ],
   "source": [
    "import networkx as nx\n",
    "G = nx.Graph()\n",
    "G.add_node('a')\n",
    "nodes_to_add = ['b','c','d']\n",
    "G.add_nodes_from(nodes_to_add)\n",
    "G.add_edge('a','b')\n",
    "edges_to_add = [('a','c'),('b','c'),('c','d'),('d','a'),('a','b')]\n",
    "G.add_edges_from(edges_to_add)\n",
    "nx.draw(G , with_labels=True , \n",
    "        node_color='green',\n",
    "        node_size=1600,\n",
    "        font_color='white',\n",
    "        font_size=16,)\n",
    "\n",
    "    \n"
   ]
  },
  {
   "cell_type": "code",
   "execution_count": 2,
   "id": "ffb5d337",
   "metadata": {},
   "outputs": [
    {
     "name": "stdout",
     "output_type": "stream",
     "text": [
      "a\n",
      "b\n",
      "c\n",
      "d\n",
      "('a', 'b')\n",
      "('a', 'c')\n",
      "('a', 'd')\n",
      "('b', 'c')\n",
      "('c', 'd')\n"
     ]
    }
   ],
   "source": [
    "G.nodes()\n",
    "G.edges()\n",
    "for node in G.nodes:\n",
    "    print(node)\n",
    "for edge in G.edges:\n",
    "    print(edge)"
   ]
  },
  {
   "cell_type": "code",
   "execution_count": 3,
   "id": "72f17200",
   "metadata": {},
   "outputs": [
    {
     "data": {
      "text/plain": [
       "5"
      ]
     },
     "execution_count": 3,
     "metadata": {},
     "output_type": "execute_result"
    }
   ],
   "source": [
    "    \n",
    "G.number_of_nodes()\n",
    "G.number_of_edges()"
   ]
  },
  {
   "cell_type": "code",
   "execution_count": 4,
   "id": "89b313db",
   "metadata": {},
   "outputs": [
    {
     "name": "stdout",
     "output_type": "stream",
     "text": [
      "a\n",
      "c\n"
     ]
    }
   ],
   "source": [
    "G.neighbors('b')\n",
    "for  neighbor in G.neighbors('b'):\n",
    "     print(neighbor)"
   ]
  },
  {
   "cell_type": "code",
   "execution_count": 5,
   "id": "28b93c69",
   "metadata": {},
   "outputs": [
    {
     "name": "stdout",
     "output_type": "stream",
     "text": [
      "a\n",
      "b\n",
      "d\n"
     ]
    }
   ],
   "source": [
    "G.neighbors('c')\n",
    "for  neighbor in G.neighbors('c'):\n",
    "     print(neighbor)"
   ]
  },
  {
   "cell_type": "code",
   "execution_count": 6,
   "id": "f1a0b6e1",
   "metadata": {},
   "outputs": [
    {
     "data": {
      "text/plain": [
       "False"
      ]
     },
     "execution_count": 6,
     "metadata": {},
     "output_type": "execute_result"
    }
   ],
   "source": [
    "nx.is_tree(G) "
   ]
  },
  {
   "cell_type": "code",
   "execution_count": 7,
   "id": "883b7333",
   "metadata": {},
   "outputs": [
    {
     "data": {
      "text/plain": [
       "True"
      ]
     },
     "execution_count": 7,
     "metadata": {},
     "output_type": "execute_result"
    }
   ],
   "source": [
    "nx.is_connected(G)"
   ]
  },
  {
   "cell_type": "code",
   "execution_count": 8,
   "id": "2e70d612",
   "metadata": {},
   "outputs": [
    {
     "data": {
      "text/plain": [
       "True"
      ]
     },
     "execution_count": 8,
     "metadata": {},
     "output_type": "execute_result"
    }
   ],
   "source": [
    "G.has_node('a')"
   ]
  },
  {
   "cell_type": "code",
   "execution_count": 9,
   "id": "318891ce",
   "metadata": {},
   "outputs": [
    {
     "data": {
      "text/plain": [
       "False"
      ]
     },
     "execution_count": 9,
     "metadata": {},
     "output_type": "execute_result"
    }
   ],
   "source": [
    "G.has_node('x')"
   ]
  },
  {
   "cell_type": "code",
   "execution_count": 10,
   "id": "ea1c30b5",
   "metadata": {},
   "outputs": [
    {
     "data": {
      "text/plain": [
       "True"
      ]
     },
     "execution_count": 10,
     "metadata": {},
     "output_type": "execute_result"
    }
   ],
   "source": [
    "'d' in G.nodes"
   ]
  },
  {
   "cell_type": "code",
   "execution_count": 11,
   "id": "2a3d2fe7",
   "metadata": {},
   "outputs": [
    {
     "data": {
      "text/plain": [
       "True"
      ]
     },
     "execution_count": 11,
     "metadata": {},
     "output_type": "execute_result"
    }
   ],
   "source": [
    "G.has_edge('a','b')"
   ]
  },
  {
   "cell_type": "code",
   "execution_count": 12,
   "id": "81935c01",
   "metadata": {},
   "outputs": [
    {
     "data": {
      "text/plain": [
       "3"
      ]
     },
     "execution_count": 12,
     "metadata": {},
     "output_type": "execute_result"
    }
   ],
   "source": [
    "len(list(G.neighbors('a')))"
   ]
  },
  {
   "cell_type": "code",
   "execution_count": 13,
   "id": "ed6f5c19",
   "metadata": {},
   "outputs": [
    {
     "data": {
      "text/plain": [
       "3"
      ]
     },
     "execution_count": 13,
     "metadata": {},
     "output_type": "execute_result"
    }
   ],
   "source": [
    "G.degree('a')"
   ]
  },
  {
   "cell_type": "code",
   "execution_count": 14,
   "id": "9e4018fb",
   "metadata": {},
   "outputs": [
    {
     "data": {
      "text/plain": [
       "['MOHAMED', 'AHMED', 'GAMAL']"
      ]
     },
     "execution_count": 14,
     "metadata": {},
     "output_type": "execute_result"
    }
   ],
   "source": [
    "items = ['mohamed', 'ahmed', 'gamal']\n",
    "[item.upper() for item in items]"
   ]
  },
  {
   "cell_type": "code",
   "execution_count": 15,
   "id": "ab18c150",
   "metadata": {},
   "outputs": [
    {
     "name": "stdout",
     "output_type": "stream",
     "text": [
      "['a', 'b', 'c', 'd']\n",
      "[3, 2, 3, 2]\n"
     ]
    }
   ],
   "source": [
    "print(G.nodes())\n",
    "print([G.degree(n) for n in G.nodes()])"
   ]
  },
  {
   "cell_type": "code",
   "execution_count": 16,
   "id": "3dd767ab",
   "metadata": {},
   "outputs": [
    {
     "data": {
      "text/plain": [
       "[7, 5, 5]"
      ]
     },
     "execution_count": 16,
     "metadata": {},
     "output_type": "execute_result"
    }
   ],
   "source": [
    "g = (len(item) for item in items)\n",
    "list(g)"
   ]
  },
  {
   "cell_type": "code",
   "execution_count": 17,
   "id": "e997360d",
   "metadata": {},
   "outputs": [
    {
     "data": {
      "text/plain": [
       "7"
      ]
     },
     "execution_count": 17,
     "metadata": {},
     "output_type": "execute_result"
    }
   ],
   "source": [
    "max (len(item) for item in items)"
   ]
  },
  {
   "cell_type": "code",
   "execution_count": 18,
   "id": "b688a60f",
   "metadata": {},
   "outputs": [
    {
     "data": {
      "text/plain": [
       "['AHMED', 'GAMAL', 'MOHAMED']"
      ]
     },
     "execution_count": 18,
     "metadata": {},
     "output_type": "execute_result"
    }
   ],
   "source": [
    "sorted(item.upper() for item in items)"
   ]
  },
  {
   "cell_type": "code",
   "execution_count": 19,
   "id": "becc32e0",
   "metadata": {},
   "outputs": [
    {
     "data": {
      "image/png": "[encoded data removed]",
      "text/plain": [
       "<Figure size 432x288 with 1 Axes>"
      ]
     },
     "metadata": {},
     "output_type": "display_data"
    }
   ],
   "source": [
    "G = nx.Graph()\n",
    "G.add_nodes_from(['moh','ahm','tag',15])\n",
    "G.add_edge('moh','ahm')\n",
    "nx.draw(G, with_labels=True,\n",
    "       font_color='red',\n",
    "       node_size=1000)"
   ]
  },
  {
   "cell_type": "code",
   "execution_count": 20,
   "id": "a19696e5",
   "metadata": {},
   "outputs": [
    {
     "data": {
      "image/png": "[encoded data removed]",
      "text/plain": [
       "<Figure size 432x288 with 1 Axes>"
      ]
     },
     "metadata": {},
     "output_type": "display_data"
    }
   ],
   "source": [
    "D = nx.DiGraph()\n",
    "D.add_edges_from([(1,2),(2,3),(3,2),(3,4),(3,5),(4,5),(4,6),(5,6),(6,4),(4,2)])\n",
    "nx.draw(D, with_labels=True)"
   ]
  },
  {
   "cell_type": "code",
   "execution_count": null,
   "id": "e9a655eb",
   "metadata": {},
   "outputs": [],
   "source": []
  }
 ],
 "metadata": {
  "kernelspec": {
   "display_name": "Python 3 (ipykernel)",
   "language": "python",
   "name": "python3"
  },
  "language_info": {
   "codemirror_mode": {
    "name": "ipython",
    "version": 3
   },
   "file_extension": ".py",
   "mimetype": "text/x-python",
   "name": "python",
   "nbconvert_exporter": "python",
   "pygments_lexer": "ipython3",
   "version": "3.9.7"
  }
 },
 "nbformat": 4,
 "nbformat_minor": 5
}
